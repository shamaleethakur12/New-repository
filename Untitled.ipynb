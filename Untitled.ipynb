{
 "cells": [
  {
   "cell_type": "code",
   "execution_count": 1,
   "metadata": {
    "collapsed": false
   },
   "outputs": [
    {
     "name": "stdout",
     "output_type": "stream",
     "text": [
      "Tale of Two Cities\n",
      "Harry Potter\n",
      "To kill a Mockingbird\n",
      "The Famous Five\n",
      "Tell Me Your Dreams\n"
     ]
    }
   ],
   "source": [
    "books = [\"Tale of Two Cities\", \"Harry Potter\",\"To kill a Mockingbird\",\"The Famous Five\", \"Tell Me Your Dreams\"]\n",
    "nums = range(100)\n",
    "\n",
    "for book in books:\n",
    "    print(book)\n"
   ]
  },
  {
   "cell_type": "code",
   "execution_count": 2,
   "metadata": {
    "collapsed": false
   },
   "outputs": [
    {
     "data": {
      "text/plain": [
       "['Tale of Two Cities',\n",
       " 'Harry Potter',\n",
       " 'To kill a Mockingbird',\n",
       " 'The Famous Five',\n",
       " 'Tell Me Your Dreams']"
      ]
     },
     "execution_count": 2,
     "metadata": {},
     "output_type": "execute_result"
    }
   ],
   "source": [
    "books"
   ]
  },
  {
   "cell_type": "code",
   "execution_count": 3,
   "metadata": {
    "collapsed": false
   },
   "outputs": [
    {
     "data": {
      "text/plain": [
       "'The Famous Five'"
      ]
     },
     "execution_count": 3,
     "metadata": {},
     "output_type": "execute_result"
    }
   ],
   "source": [
    "books[3]"
   ]
  },
  {
   "cell_type": "code",
   "execution_count": 4,
   "metadata": {
    "collapsed": false
   },
   "outputs": [
    {
     "ename": "IndentationError",
     "evalue": "expected an indented block (<ipython-input-4-e7fa07122bfe>, line 2)",
     "output_type": "error",
     "traceback": [
      "\u001b[1;36m  File \u001b[1;32m\"<ipython-input-4-e7fa07122bfe>\"\u001b[1;36m, line \u001b[1;32m2\u001b[0m\n\u001b[1;33m    print(n)\u001b[0m\n\u001b[1;37m        ^\u001b[0m\n\u001b[1;31mIndentationError\u001b[0m\u001b[1;31m:\u001b[0m expected an indented block\n"
     ]
    }
   ],
   "source": [
    "for n in nums:\n",
    "print(n)"
   ]
  },
  {
   "cell_type": "code",
   "execution_count": 5,
   "metadata": {
    "collapsed": false
   },
   "outputs": [
    {
     "name": "stdout",
     "output_type": "stream",
     "text": [
      "0\n",
      "1\n",
      "2\n",
      "3\n",
      "4\n",
      "5\n",
      "6\n",
      "7\n",
      "8\n",
      "9\n",
      "10\n",
      "11\n",
      "12\n",
      "13\n",
      "14\n",
      "15\n",
      "16\n",
      "17\n",
      "18\n",
      "19\n",
      "20\n",
      "21\n",
      "22\n",
      "23\n",
      "24\n",
      "25\n",
      "26\n",
      "27\n",
      "28\n",
      "29\n",
      "30\n",
      "31\n",
      "32\n",
      "33\n",
      "34\n",
      "35\n",
      "36\n",
      "37\n",
      "38\n",
      "39\n",
      "40\n",
      "41\n",
      "42\n",
      "43\n",
      "44\n",
      "45\n",
      "46\n",
      "47\n",
      "48\n",
      "49\n",
      "50\n",
      "51\n",
      "52\n",
      "53\n",
      "54\n",
      "55\n",
      "56\n",
      "57\n",
      "58\n",
      "59\n",
      "60\n",
      "61\n",
      "62\n",
      "63\n",
      "64\n",
      "65\n",
      "66\n",
      "67\n",
      "68\n",
      "69\n",
      "70\n",
      "71\n",
      "72\n",
      "73\n",
      "74\n",
      "75\n",
      "76\n",
      "77\n",
      "78\n",
      "79\n",
      "80\n",
      "81\n",
      "82\n",
      "83\n",
      "84\n",
      "85\n",
      "86\n",
      "87\n",
      "88\n",
      "89\n",
      "90\n",
      "91\n",
      "92\n",
      "93\n",
      "94\n",
      "95\n",
      "96\n",
      "97\n",
      "98\n",
      "99\n"
     ]
    }
   ],
   "source": [
    "for n in nums:\n",
    "    print(n)"
   ]
  },
  {
   "cell_type": "code",
   "execution_count": 6,
   "metadata": {
    "collapsed": false
   },
   "outputs": [
    {
     "name": "stdout",
     "output_type": "stream",
     "text": [
      "0\n",
      "It is an odd number\n",
      "2\n",
      "It is an odd number\n",
      "4\n",
      "It is an odd number\n",
      "6\n",
      "It is an odd number\n",
      "8\n",
      "It is an odd number\n",
      "10\n",
      "It is an odd number\n",
      "12\n",
      "It is an odd number\n",
      "14\n",
      "It is an odd number\n",
      "16\n",
      "It is an odd number\n",
      "18\n",
      "It is an odd number\n",
      "20\n",
      "It is an odd number\n",
      "22\n",
      "It is an odd number\n",
      "24\n",
      "It is an odd number\n",
      "26\n",
      "It is an odd number\n",
      "28\n",
      "It is an odd number\n",
      "30\n",
      "It is an odd number\n",
      "32\n",
      "It is an odd number\n",
      "34\n",
      "It is an odd number\n",
      "36\n",
      "It is an odd number\n",
      "38\n",
      "It is an odd number\n",
      "40\n",
      "It is an odd number\n",
      "42\n",
      "It is an odd number\n",
      "44\n",
      "It is an odd number\n",
      "46\n",
      "It is an odd number\n",
      "48\n",
      "It is an odd number\n",
      "50\n",
      "It is an odd number\n",
      "52\n",
      "It is an odd number\n",
      "54\n",
      "It is an odd number\n",
      "56\n",
      "It is an odd number\n",
      "58\n",
      "It is an odd number\n",
      "60\n",
      "It is an odd number\n",
      "62\n",
      "It is an odd number\n",
      "64\n",
      "It is an odd number\n",
      "66\n",
      "It is an odd number\n",
      "68\n",
      "It is an odd number\n",
      "70\n",
      "It is an odd number\n",
      "72\n",
      "It is an odd number\n",
      "74\n",
      "It is an odd number\n",
      "76\n",
      "It is an odd number\n",
      "78\n",
      "It is an odd number\n",
      "80\n",
      "It is an odd number\n",
      "82\n",
      "It is an odd number\n",
      "84\n",
      "It is an odd number\n",
      "86\n",
      "It is an odd number\n",
      "88\n",
      "It is an odd number\n",
      "90\n",
      "It is an odd number\n",
      "92\n",
      "It is an odd number\n",
      "94\n",
      "It is an odd number\n",
      "96\n",
      "It is an odd number\n",
      "98\n",
      "It is an odd number\n"
     ]
    }
   ],
   "source": [
    "for n in nums:\n",
    "    if(n%2==0):\n",
    "        print(n)\n",
    "    else:\n",
    "        print(\"It is an odd number\")\n",
    "        \n",
    "    "
   ]
  },
  {
   "cell_type": "code",
   "execution_count": 7,
   "metadata": {
    "collapsed": false
   },
   "outputs": [
    {
     "ename": "TypeError",
     "evalue": "unsupported operand type(s) for +: 'int' and 'str'",
     "output_type": "error",
     "traceback": [
      "\u001b[1;31m---------------------------------------------------------------------------\u001b[0m",
      "\u001b[1;31mTypeError\u001b[0m                                 Traceback (most recent call last)",
      "\u001b[1;32m<ipython-input-7-9b36442c4441>\u001b[0m in \u001b[0;36m<module>\u001b[1;34m()\u001b[0m\n\u001b[0;32m      1\u001b[0m \u001b[1;32mfor\u001b[0m \u001b[0mn\u001b[0m \u001b[1;32min\u001b[0m \u001b[0mnums\u001b[0m\u001b[1;33m:\u001b[0m\u001b[1;33m\u001b[0m\u001b[0m\n\u001b[0;32m      2\u001b[0m     \u001b[1;32mif\u001b[0m\u001b[1;33m(\u001b[0m\u001b[0mn\u001b[0m\u001b[1;33m%\u001b[0m\u001b[1;36m2\u001b[0m\u001b[1;33m==\u001b[0m\u001b[1;36m0\u001b[0m\u001b[1;33m)\u001b[0m\u001b[1;33m:\u001b[0m\u001b[1;33m\u001b[0m\u001b[0m\n\u001b[1;32m----> 3\u001b[1;33m         \u001b[0mprint\u001b[0m\u001b[1;33m(\u001b[0m\u001b[0mn\u001b[0m\u001b[1;33m+\u001b[0m\u001b[1;34m\" is an even number\"\u001b[0m\u001b[1;33m)\u001b[0m\u001b[1;33m\u001b[0m\u001b[0m\n\u001b[0m\u001b[0;32m      4\u001b[0m     \u001b[1;32melse\u001b[0m\u001b[1;33m:\u001b[0m\u001b[1;33m\u001b[0m\u001b[0m\n\u001b[0;32m      5\u001b[0m         \u001b[0mprint\u001b[0m\u001b[1;33m(\u001b[0m\u001b[0mn\u001b[0m\u001b[1;33m+\u001b[0m\u001b[1;34m\" is an odd number\"\u001b[0m\u001b[1;33m)\u001b[0m\u001b[1;33m\u001b[0m\u001b[0m\n",
      "\u001b[1;31mTypeError\u001b[0m: unsupported operand type(s) for +: 'int' and 'str'"
     ]
    }
   ],
   "source": [
    "for n in nums:\n",
    "    if(n%2==0):\n",
    "        print(n+\" is an even number\")\n",
    "    else:\n",
    "        print(n+\" is an odd number\")"
   ]
  },
  {
   "cell_type": "code",
   "execution_count": 8,
   "metadata": {
    "collapsed": false
   },
   "outputs": [
    {
     "name": "stdout",
     "output_type": "stream",
     "text": [
      "0 is an even number\n",
      "1 is an odd number\n",
      "2 is an even number\n",
      "3 is an odd number\n",
      "4 is an even number\n",
      "5 is an odd number\n",
      "6 is an even number\n",
      "7 is an odd number\n",
      "8 is an even number\n",
      "9 is an odd number\n",
      "10 is an even number\n",
      "11 is an odd number\n",
      "12 is an even number\n",
      "13 is an odd number\n",
      "14 is an even number\n",
      "15 is an odd number\n",
      "16 is an even number\n",
      "17 is an odd number\n",
      "18 is an even number\n",
      "19 is an odd number\n",
      "20 is an even number\n",
      "21 is an odd number\n",
      "22 is an even number\n",
      "23 is an odd number\n",
      "24 is an even number\n",
      "25 is an odd number\n",
      "26 is an even number\n",
      "27 is an odd number\n",
      "28 is an even number\n",
      "29 is an odd number\n",
      "30 is an even number\n",
      "31 is an odd number\n",
      "32 is an even number\n",
      "33 is an odd number\n",
      "34 is an even number\n",
      "35 is an odd number\n",
      "36 is an even number\n",
      "37 is an odd number\n",
      "38 is an even number\n",
      "39 is an odd number\n",
      "40 is an even number\n",
      "41 is an odd number\n",
      "42 is an even number\n",
      "43 is an odd number\n",
      "44 is an even number\n",
      "45 is an odd number\n",
      "46 is an even number\n",
      "47 is an odd number\n",
      "48 is an even number\n",
      "49 is an odd number\n",
      "50 is an even number\n",
      "51 is an odd number\n",
      "52 is an even number\n",
      "53 is an odd number\n",
      "54 is an even number\n",
      "55 is an odd number\n",
      "56 is an even number\n",
      "57 is an odd number\n",
      "58 is an even number\n",
      "59 is an odd number\n",
      "60 is an even number\n",
      "61 is an odd number\n",
      "62 is an even number\n",
      "63 is an odd number\n",
      "64 is an even number\n",
      "65 is an odd number\n",
      "66 is an even number\n",
      "67 is an odd number\n",
      "68 is an even number\n",
      "69 is an odd number\n",
      "70 is an even number\n",
      "71 is an odd number\n",
      "72 is an even number\n",
      "73 is an odd number\n",
      "74 is an even number\n",
      "75 is an odd number\n",
      "76 is an even number\n",
      "77 is an odd number\n",
      "78 is an even number\n",
      "79 is an odd number\n",
      "80 is an even number\n",
      "81 is an odd number\n",
      "82 is an even number\n",
      "83 is an odd number\n",
      "84 is an even number\n",
      "85 is an odd number\n",
      "86 is an even number\n",
      "87 is an odd number\n",
      "88 is an even number\n",
      "89 is an odd number\n",
      "90 is an even number\n",
      "91 is an odd number\n",
      "92 is an even number\n",
      "93 is an odd number\n",
      "94 is an even number\n",
      "95 is an odd number\n",
      "96 is an even number\n",
      "97 is an odd number\n",
      "98 is an even number\n",
      "99 is an odd number\n"
     ]
    }
   ],
   "source": [
    "for n in nums:\n",
    "    if(n%2==0):\n",
    "        print(str(n)+\" is an even number\")\n",
    "    else:\n",
    "        print(str(n)+\" is an odd number\")"
   ]
  },
  {
   "cell_type": "code",
   "execution_count": 9,
   "metadata": {
    "collapsed": false
   },
   "outputs": [
    {
     "ename": "NameError",
     "evalue": "name 'isEven' is not defined",
     "output_type": "error",
     "traceback": [
      "\u001b[1;31m---------------------------------------------------------------------------\u001b[0m",
      "\u001b[1;31mNameError\u001b[0m                                 Traceback (most recent call last)",
      "\u001b[1;32m<ipython-input-9-be0d6a1fc9dc>\u001b[0m in \u001b[0;36m<module>\u001b[1;34m()\u001b[0m\n\u001b[1;32m----> 1\u001b[1;33m \u001b[0misEven\u001b[0m\u001b[1;33m(\u001b[0m\u001b[1;36m3\u001b[0m\u001b[1;33m)\u001b[0m\u001b[1;33m\u001b[0m\u001b[0m\n\u001b[0m",
      "\u001b[1;31mNameError\u001b[0m: name 'isEven' is not defined"
     ]
    }
   ],
   "source": [
    "isEven(3)"
   ]
  },
  {
   "cell_type": "code",
   "execution_count": 10,
   "metadata": {
    "collapsed": false
   },
   "outputs": [
    {
     "data": {
      "text/plain": [
       "True"
      ]
     },
     "execution_count": 10,
     "metadata": {},
     "output_type": "execute_result"
    }
   ],
   "source": [
    "def isEven(n):\n",
    "    return n%2 == 0\n",
    "\n",
    "isEven(23646)"
   ]
  },
  {
   "cell_type": "code",
   "execution_count": 11,
   "metadata": {
    "collapsed": false
   },
   "outputs": [
    {
     "name": "stdout",
     "output_type": "stream",
     "text": [
      "True\n",
      "False\n",
      "True\n",
      "False\n",
      "True\n",
      "False\n",
      "True\n",
      "False\n",
      "True\n",
      "False\n",
      "True\n",
      "False\n",
      "True\n",
      "False\n",
      "True\n",
      "False\n",
      "True\n",
      "False\n",
      "True\n",
      "False\n",
      "True\n",
      "False\n",
      "True\n",
      "False\n",
      "True\n",
      "False\n",
      "True\n",
      "False\n",
      "True\n",
      "False\n",
      "True\n",
      "False\n",
      "True\n",
      "False\n",
      "True\n",
      "False\n",
      "True\n",
      "False\n",
      "True\n",
      "False\n",
      "True\n",
      "False\n",
      "True\n",
      "False\n",
      "True\n",
      "False\n",
      "True\n",
      "False\n",
      "True\n",
      "False\n",
      "True\n",
      "False\n",
      "True\n",
      "False\n",
      "True\n",
      "False\n",
      "True\n",
      "False\n",
      "True\n",
      "False\n",
      "True\n",
      "False\n",
      "True\n",
      "False\n",
      "True\n",
      "False\n",
      "True\n",
      "False\n",
      "True\n",
      "False\n",
      "True\n",
      "False\n",
      "True\n",
      "False\n",
      "True\n",
      "False\n",
      "True\n",
      "False\n",
      "True\n",
      "False\n",
      "True\n",
      "False\n",
      "True\n",
      "False\n",
      "True\n",
      "False\n",
      "True\n",
      "False\n",
      "True\n",
      "False\n",
      "True\n",
      "False\n",
      "True\n",
      "False\n",
      "True\n",
      "False\n",
      "True\n",
      "False\n",
      "True\n",
      "False\n"
     ]
    }
   ],
   "source": [
    "for n in nums:\n",
    "       print(isEven(n))"
   ]
  },
  {
   "cell_type": "code",
   "execution_count": null,
   "metadata": {
    "collapsed": true
   },
   "outputs": [],
   "source": []
  }
 ],
 "metadata": {
  "kernelspec": {
   "display_name": "Python 3",
   "language": "python",
   "name": "python3"
  },
  "language_info": {
   "codemirror_mode": {
    "name": "ipython",
    "version": 3
   },
   "file_extension": ".py",
   "mimetype": "text/x-python",
   "name": "python",
   "nbconvert_exporter": "python",
   "pygments_lexer": "ipython3",
   "version": "3.5.1"
  }
 },
 "nbformat": 4,
 "nbformat_minor": 0
}
